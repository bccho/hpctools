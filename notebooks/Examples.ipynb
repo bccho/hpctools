{
 "cells": [
  {
   "cell_type": "code",
   "execution_count": 1,
   "metadata": {},
   "outputs": [
    {
     "name": "stdout",
     "output_type": "stream",
     "text": [
      "total 0\n",
      "-rw-r--r--. 1 tdp pni 0 Mar  4 21:02 file_test\n",
      "\n"
     ]
    }
   ],
   "source": [
    "import hpctools\n",
    "from hpctools.utils import print_dict\n",
    "\n",
    "# Create session to store auth for ssh\n",
    "cluster = hpctools.SLURMCluster(host=\"tigergpu.princeton.edu\", user=\"tdp\")\n",
    "\n",
    "# Evaluate a series of shell commands and return the output\n",
    "print(cluster.run_cmd([\n",
    "    \"mkdir test_dir\",\n",
    "    \"cd test_dir\",\n",
    "    \"touch file_test\",\n",
    "    \"ls -lh\",\n",
    "    \"cd ..\",\n",
    "    \"rm -rf test_dir\"]))"
   ]
  },
  {
   "cell_type": "code",
   "execution_count": 2,
   "metadata": {},
   "outputs": [
    {
     "name": "stdout",
     "output_type": "stream",
     "text": [
      "#!/bin/bash\n",
      "#SBATCH --time=00:01:00\n",
      "#SBATCH --output='test_job.log'\n",
      "#SBATCH --job-name='test_job'\n",
      "\n",
      "\n",
      "echo \"$0 $1 $2\"\n",
      "echo \"Ran $SLURM_JOB_NAME (job ID: $SLURM_JOB_ID) at $(date).\"\n",
      "\n",
      "sleep 15\n",
      "echo \"[$(date)] Exiting...\"\n",
      "\n"
     ]
    }
   ],
   "source": [
    "# Display script contents\n",
    "print(cluster.run_cmd([\"cd $HOME/lab/code/hpctools/slurm_scripts\", \"cat test_job.sh\"]))"
   ]
  },
  {
   "cell_type": "code",
   "execution_count": 3,
   "metadata": {},
   "outputs": [
    {
     "name": "stdout",
     "output_type": "stream",
     "text": [
      "Waiting for job 435117... Running after 0.7 seconds.\n",
      "{\n",
      "  \"ACCOUNT\": \"pni\",\n",
      "  \"GRES\": \"(null)\",\n",
      "  \"MIN_CPUS\": \"1\",\n",
      "  \"MIN_TMP_DISK\": \"0\",\n",
      "  \"END_TIME\": \"2018-03-04T21:03:43\",\n",
      "  \"FEATURES\": \"(null)\",\n",
      "  \"GROUP\": \"30057\",\n",
      "  \"OVER_SUBSCRIBE\": \"OK\",\n",
      "  \"JOBID\": \"435117\",\n",
      "  \"NAME\": \"test_job\",\n",
      "  \"COMMENT\": \"(null)\",\n",
      "  \"TIME_LIMIT\": \"1:00\",\n",
      "  \"MIN_MEMORY\": \"4000M\",\n",
      "  \"REQ_NODES\": \"\",\n",
      "  \"COMMAND\": \"/tigress/SHAEVITZ/talmo/code/hpctools/slurm_scripts/test_job.sh arg1 arg2\",\n",
      "  \"PRIORITY\": \"10311\",\n",
      "  \"QOS\": \"tiger-test\",\n",
      "  \"REASON\": \"None\",\n",
      "  \"ST\": \"R\",\n",
      "  \"USER\": \"113725\",\n",
      "  \"RESERVATION\": \"(null)\",\n",
      "  \"WCKEY\": \"(null)\",\n",
      "  \"EXC_NODES\": \"\",\n",
      "  \"NICE\": \"0\",\n",
      "  \"S:C:T\": \"*:*:*\",\n",
      "  \"EXEC_HOST\": \"tiger-h26c2n24\",\n",
      "  \"CPUS\": \"1\",\n",
      "  \"NODES\": \"1\",\n",
      "  \"DEPENDENCY\": \"\",\n",
      "  \"ARRAY_JOB_ID\": \"435117\",\n",
      "  \"SOCKETS_PER_NODE\": \"*\",\n",
      "  \"CORES_PER_SOCKET\": \"*\",\n",
      "  \"THREADS_PER_CORE\": \"*\",\n",
      "  \"ARRAY_TASK_ID\": \"N/A\",\n",
      "  \"TIME_LEFT\": \"0:59\",\n",
      "  \"TIME\": \"0:01\",\n",
      "  \"NODELIST\": \"tiger-h26c2n24\",\n",
      "  \"CONTIGUOUS\": \"0\",\n",
      "  \"PARTITION\": \"all\",\n",
      "  \"NODELIST(REASON)\": \"tiger-h26c2n24\",\n",
      "  \"START_TIME\": \"2018-03-04T21:02:43\",\n",
      "  \"STATE\": \"RUNNING\",\n",
      "  \"SUBMIT_TIME\": \"2018-03-04T21:02:43\",\n",
      "  \"LICENSES\": \"(null)\",\n",
      "  \"CORE_SPEC\": \"N/A\",\n",
      "  \"SCHEDNODES\": \"(null)\",\n",
      "  \"WORK_DIR\": \"/tigress/SHAEVITZ/talmo/code/hpctools/slurm_scripts\"\n",
      "}\n"
     ]
    }
   ],
   "source": [
    "# Submit a bash script with SLURM directives via sbatch\n",
    "job_id = cluster.submit_job(\"test_job.sh\", \n",
    "    script_args=[\"arg1\", \"arg2\"], # command line arguments passed to the script\n",
    "    working_directory=\"$HOME/lab/code/hpctools/slurm_scripts\") # starting directory\n",
    "\n",
    "# Block until job starts\n",
    "is_running, time_elapsed = cluster.wait_for_job(job_id, timeout=120, poll_interval=2)\n",
    "\n",
    "# Show job metadata\n",
    "print_dict(cluster.job_info(job_id))"
   ]
  },
  {
   "cell_type": "code",
   "execution_count": 9,
   "metadata": {},
   "outputs": [
    {
     "name": "stdout",
     "output_type": "stream",
     "text": [
      "/var/spool/slurmd/job435117/slurm_script arg1 arg2\n",
      "Ran test_job (job ID: 435117) at Sun Mar  4 21:02:43 EST 2018.\n",
      "[Sun Mar  4 21:02:58 EST 2018] Exiting...\n",
      "\n"
     ]
    }
   ],
   "source": [
    "# Print output\n",
    "print(cluster.run_cmd([\"cd $HOME/lab/code/hpctools/slurm_scripts\", \"cat test_job.log\"]))"
   ]
  }
 ],
 "metadata": {
  "kernelspec": {
   "display_name": "Python 3",
   "language": "python",
   "name": "python3"
  },
  "language_info": {
   "codemirror_mode": {
    "name": "ipython",
    "version": 3
   },
   "file_extension": ".py",
   "mimetype": "text/x-python",
   "name": "python",
   "nbconvert_exporter": "python",
   "pygments_lexer": "ipython3",
   "version": "3.6.4"
  }
 },
 "nbformat": 4,
 "nbformat_minor": 2
}
