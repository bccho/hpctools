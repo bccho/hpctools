{
 "cells": [
  {
   "cell_type": "code",
   "execution_count": 1,
   "metadata": {},
   "outputs": [],
   "source": [
    "from hpctools import JupyterCluster, print_dict\n",
    "# from hpctools.jupyter import JupyterCluster\n",
    "\n",
    "cluster = JupyterCluster(host=\"tigergpu.princeton.edu\", user=\"tdp\", job_port=9010)"
   ]
  },
  {
   "cell_type": "code",
   "execution_count": 7,
   "metadata": {},
   "outputs": [
    {
     "name": "stdout",
     "output_type": "stream",
     "text": [
      "Waiting for job 435161... Running after 0.7 seconds.\n",
      "Killed ssh tunnel (port: 9010, pid: 27352).\n",
      "Started tunnel (port: 9010, server: 10.36.22.41, pid: 9364)\n",
      "{\n",
      "  \"ip\": \"10.36.22.41\",\n",
      "  \"port\": \"9010\",\n",
      "  \"cmd\": \"ssh -N -o \\\"ExitOnForwardFailure yes\\\" -L 9010:10.36.22.41:9010 tdp@tigergpu.princeton.edu\",\n",
      "  \"notebook_dir\": \"/home/tdp/lab/code\",\n",
      "  \"json_path\": \"/home/tdp/lab/code/hpctools/slurm_scripts/jupyter_lab.9010.json\",\n",
      "  \"submit_host\": \"tigergpu.princeton.edu\",\n",
      "  \"job_id\": \"435161\",\n",
      "  \"job_name\": \"jupyter_lab_gpu\",\n",
      "  \"cpus_on_node\": \"12\",\n",
      "  \"timestamp\": \"Mon Mar  5 00:18:50 EST 2018\"\n",
      "}\n",
      "True\n"
     ]
    }
   ],
   "source": [
    "cluster.start_notebook(restart=True, wait_for_job_start=True)\n",
    "print_dict(cluster.get_notebook_metadata())\n",
    "print(cluster.is_notebook_running())"
   ]
  },
  {
   "cell_type": "code",
   "execution_count": 3,
   "metadata": {},
   "outputs": [
    {
     "name": "stdout",
     "output_type": "stream",
     "text": [
      "{\n",
      "  \"ACCOUNT\": \"pni\",\n",
      "  \"GRES\": \"gpu:1\",\n",
      "  \"MIN_CPUS\": \"12\",\n",
      "  \"MIN_TMP_DISK\": \"0\",\n",
      "  \"END_TIME\": \"2018-03-05T21:28:04\",\n",
      "  \"FEATURES\": \"(null)\",\n",
      "  \"GROUP\": \"30057\",\n",
      "  \"OVER_SUBSCRIBE\": \"OK\",\n",
      "  \"JOBID\": \"435128\",\n",
      "  \"NAME\": \"jupyter_lab_gpu\",\n",
      "  \"COMMENT\": \"(null)\",\n",
      "  \"TIME_LIMIT\": \"1-00:00:00\",\n",
      "  \"MIN_MEMORY\": \"125G\",\n",
      "  \"REQ_NODES\": \"\",\n",
      "  \"COMMAND\": \"/tigress/SHAEVITZ/talmo/code/hpctools/slurm_scripts/jupyter_lab_gpu.sh 9010\",\n",
      "  \"PRIORITY\": \"10314\",\n",
      "  \"QOS\": \"gpu-short\",\n",
      "  \"REASON\": \"None\",\n",
      "  \"ST\": \"R\",\n",
      "  \"USER\": \"113725\",\n",
      "  \"RESERVATION\": \"(null)\",\n",
      "  \"WCKEY\": \"(null)\",\n",
      "  \"EXC_NODES\": \"\",\n",
      "  \"NICE\": \"0\",\n",
      "  \"S:C:T\": \"*:*:*\",\n",
      "  \"EXEC_HOST\": \"tiger-i23g5\",\n",
      "  \"CPUS\": \"12\",\n",
      "  \"NODES\": \"1\",\n",
      "  \"DEPENDENCY\": \"\",\n",
      "  \"ARRAY_JOB_ID\": \"435128\",\n",
      "  \"SOCKETS_PER_NODE\": \"*\",\n",
      "  \"CORES_PER_SOCKET\": \"*\",\n",
      "  \"THREADS_PER_CORE\": \"*\",\n",
      "  \"ARRAY_TASK_ID\": \"N/A\",\n",
      "  \"TIME_LEFT\": \"23:51:59\",\n",
      "  \"TIME\": \"8:01\",\n",
      "  \"NODELIST\": \"tiger-i23g5\",\n",
      "  \"CONTIGUOUS\": \"0\",\n",
      "  \"PARTITION\": \"gpu\",\n",
      "  \"NODELIST(REASON)\": \"tiger-i23g5\",\n",
      "  \"START_TIME\": \"2018-03-04T21:28:04\",\n",
      "  \"STATE\": \"RUNNING\",\n",
      "  \"SUBMIT_TIME\": \"2018-03-04T21:28:02\",\n",
      "  \"LICENSES\": \"(null)\",\n",
      "  \"CORE_SPEC\": \"N/A\",\n",
      "  \"SCHEDNODES\": \"(null)\",\n",
      "  \"WORK_DIR\": \"/tigress/SHAEVITZ/talmo/code/hpctools/slurm_scripts\"\n",
      "}\n"
     ]
    }
   ],
   "source": [
    "print_dict(cluster.job_info(cluster.metadata[\"job_id\"]))"
   ]
  },
  {
   "cell_type": "code",
   "execution_count": 6,
   "metadata": {},
   "outputs": [
    {
     "name": "stdout",
     "output_type": "stream",
     "text": [
      "Stopping existing notebook (port 9010, job id: 435144)...\n"
     ]
    }
   ],
   "source": [
    "cluster.stop_notebook()"
   ]
  }
 ],
 "metadata": {
  "kernelspec": {
   "display_name": "Python 3",
   "language": "python",
   "name": "python3"
  },
  "language_info": {
   "codemirror_mode": {
    "name": "ipython",
    "version": 3
   },
   "file_extension": ".py",
   "mimetype": "text/x-python",
   "name": "python",
   "nbconvert_exporter": "python",
   "pygments_lexer": "ipython3",
   "version": "3.6.4"
  }
 },
 "nbformat": 4,
 "nbformat_minor": 2
}
